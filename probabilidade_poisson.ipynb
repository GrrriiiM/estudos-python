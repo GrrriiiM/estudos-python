{
 "metadata": {
  "language_info": {
   "codemirror_mode": {
    "name": "ipython",
    "version": 3
   },
   "file_extension": ".py",
   "mimetype": "text/x-python",
   "name": "python",
   "nbconvert_exporter": "python",
   "pygments_lexer": "ipython3",
   "version": "3.9.0"
  },
  "orig_nbformat": 2,
  "kernelspec": {
   "name": "python3",
   "display_name": "Python 3.9.0 64-bit",
   "metadata": {
    "interpreter": {
     "hash": "4c3c803356ac84a245da1e563cde325f27803270f971fd44c60c39c68f877160"
    }
   }
  }
 },
 "nbformat": 4,
 "nbformat_minor": 2,
 "cells": [
  {
   "cell_type": "code",
   "execution_count": 79,
   "metadata": {},
   "outputs": [],
   "source": [
    "from sympy import *\n",
    "from sympy.stats import *\n",
    "from functools import *\n",
    "import math as m"
   ]
  },
  {
   "cell_type": "code",
   "execution_count": 108,
   "metadata": {},
   "outputs": [],
   "source": [
    "def fatorial(n):\n",
    "    return reduce(lambda n1,n2: n1 * n2, range(1, n + 1)) if n > 0 else 1\n",
    "    \n",
    "\n",
    "def euler(n):\n",
    "    return 2.71828**n\n",
    "\n",
    "def poisson(l, x):\n",
    "    return ((euler(-l))*(l**x))/fatorial(x)"
   ]
  },
  {
   "cell_type": "code",
   "execution_count": 126,
   "metadata": {},
   "outputs": [
    {
     "output_type": "execute_result",
     "data": {
      "text/plain": [
       "0.5768090648924199"
      ]
     },
     "metadata": {},
     "execution_count": 126
    }
   ],
   "source": [
    "1 - poisson(3, 0) - poisson(3, 1) - poisson(3, 2)"
   ]
  },
  {
   "cell_type": "code",
   "execution_count": 116,
   "metadata": {},
   "outputs": [
    {
     "output_type": "execute_result",
     "data": {
      "text/plain": [
       "10*exp(-10)"
      ],
      "text/latex": "$\\displaystyle \\frac{10}{e^{10}}$"
     },
     "metadata": {},
     "execution_count": 116
    }
   ],
   "source": [
    "X = Poisson(\"X\", 10)\n",
    "P(Eq(X, 1))"
   ]
  }
 ]
}