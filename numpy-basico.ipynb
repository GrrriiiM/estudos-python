{
 "metadata": {
  "language_info": {
   "codemirror_mode": {
    "name": "ipython",
    "version": 3
   },
   "file_extension": ".py",
   "mimetype": "text/x-python",
   "name": "python",
   "nbconvert_exporter": "python",
   "pygments_lexer": "ipython3",
   "version": "3.9.0-final"
  },
  "orig_nbformat": 2,
  "kernelspec": {
   "name": "python3",
   "display_name": "Python 3.9.0 64-bit",
   "metadata": {
    "interpreter": {
     "hash": "57c4dbb94661a976730113afd48c530688c112c069e725add353a90d52985f78"
    }
   }
  }
 },
 "nbformat": 4,
 "nbformat_minor": 2,
 "cells": [
  {
   "source": [
    "# Numpy Basico\n",
    "Estudos basicos utilizando o modulo **[Numpy](https://numpy.org/)**"
   ],
   "cell_type": "markdown",
   "metadata": {}
  },
  {
   "source": [
    "Por convenção da comunidade, utilizasse **np** como alias para o modulo."
   ],
   "cell_type": "markdown",
   "metadata": {}
  },
  {
   "cell_type": "code",
   "execution_count": 4,
   "metadata": {},
   "outputs": [],
   "source": [
    "import numpy as np"
   ]
  },
  {
   "source": [
    "## np.arange\n",
    "cria um array com range definido, possibilitando definir o intervalo entre cada numero\n"
   ],
   "cell_type": "markdown",
   "metadata": {}
  },
  {
   "cell_type": "code",
   "execution_count": 10,
   "metadata": {
    "tags": []
   },
   "outputs": [
    {
     "output_type": "execute_result",
     "data": {
      "text/plain": [
       "array([0, 1, 2, 3, 4, 5, 6, 7, 8, 9])"
      ]
     },
     "metadata": {},
     "execution_count": 10
    }
   ],
   "source": [
    "np.arange(10) # Cria um array iniciado em 0 e menor que 10 com intervalor de 1"
   ]
  },
  {
   "source": [
    "np.arange(2, 8) # Cria um array iniciado 2 e menor que 8 com intervalor de 1"
   ],
   "cell_type": "code",
   "metadata": {},
   "execution_count": 11,
   "outputs": []
  },
  {
   "cell_type": "code",
   "execution_count": null,
   "metadata": {},
   "outputs": [],
   "source": [
    "np.arange(2, 8, 3) # Cria um array iniciado em 2 e menor que 8 com intervalor de 3"
   ]
  }
 ]
}