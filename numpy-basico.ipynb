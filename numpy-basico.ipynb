{
 "metadata": {
  "language_info": {
   "codemirror_mode": {
    "name": "ipython",
    "version": 3
   },
   "file_extension": ".py",
   "mimetype": "text/x-python",
   "name": "python",
   "nbconvert_exporter": "python",
   "pygments_lexer": "ipython3",
   "version": "3.9.0-final"
  },
  "orig_nbformat": 2,
  "kernelspec": {
   "name": "python3",
   "display_name": "Python 3.9.0 64-bit",
   "metadata": {
    "interpreter": {
     "hash": "57c4dbb94661a976730113afd48c530688c112c069e725add353a90d52985f78"
    }
   }
  }
 },
 "nbformat": 4,
 "nbformat_minor": 2,
 "cells": [
  {
   "source": [
    "# Numpy Basico\n",
    "Estudos básicos utilizando o modulo **[Numpy](https://numpy.org/)**\n",
    "\n",
    "* [np.array](#np.array)\n",
    "* [np.arange](#np.arange)"
   ],
   "cell_type": "markdown",
   "metadata": {}
  },
  {
   "source": [
    "Por convenção da comunidade, utilizasse **np** como alias para o modulo."
   ],
   "cell_type": "markdown",
   "metadata": {}
  },
  {
   "source": [
    "## Criação de ndarray"
   ],
   "cell_type": "markdown",
   "metadata": {}
  },
  {
   "cell_type": "code",
   "execution_count": null,
   "metadata": {},
   "outputs": [],
   "source": [
    "import numpy as np"
   ]
  },
  {
   "source": [
    "### np.array\n",
    "Cria um **ndarray** baseado em um *array/tupla* passado como parametro. Os itens do array podem ser outro array para caracterizar um array de N dimensões. Os subníveis precisam ter tamanhos identicos entre si, para que sera criado um array de N dimensões. \n",
    "Exemplo: Se for criado um array com 2 dimensões (**linha** X *coluna*), todas as **linhas** precisam ter o mesmo número de *colunas*. Se for criado um array com 3 dimensões (***página*** X **linha** X *coluna*), todas as ***páginas*** precisam ter o mesmo número de **linhas**, e todas as linhas o mesmo número de *colunas*."
   ],
   "cell_type": "markdown",
   "metadata": {}
  },
  {
   "cell_type": "code",
   "execution_count": null,
   "metadata": {},
   "outputs": [],
   "source": [
    "np.array([2, 7, 1, 8]) #Cria array de 1 dimensão (Colunas)"
   ]
  },
  {
   "cell_type": "code",
   "execution_count": null,
   "metadata": {},
   "outputs": [],
   "source": [
    "np.array([[1, 3, 4], [5, 3, 0]]) #Cria array de 2 dimensões (Linhas X Colunas)"
   ]
  },
  {
   "cell_type": "code",
   "execution_count": null,
   "metadata": {},
   "outputs": [],
   "source": [
    "np.array(([(2, 0), (4, 5), (6, 3)], [(4, 3), (3, 1), (2, 9)])) #Cria ndarray de 3 dimensões (Paginas X Linhas X Colunas)"
   ]
  },
  {
   "cell_type": "code",
   "execution_count": null,
   "metadata": {},
   "outputs": [],
   "source": [
    "np.array(([([3, 5], [0, 7]), ([4, 8], [5, 6]), ([0, 3], [3, 8])], [([4, 5], [3, 1]), ([3, 7], [1, 5]), ([2, 8], [9, 9])])) #Cria ndarray de 4 dimensões (Cubos X Paginas X Linhas X Colunas)"
   ]
  },
  {
   "source": [
    "---"
   ],
   "cell_type": "markdown",
   "metadata": {}
  },
  {
   "source": [
    "### np.zeros\n",
    "Cria um ndarray com todos valores 0 no formato passado como parametro. Como padrão os valores são decimais."
   ],
   "cell_type": "markdown",
   "metadata": {}
  },
  {
   "cell_type": "code",
   "execution_count": null,
   "metadata": {},
   "outputs": [],
   "source": [
    "np.zeros(4) #Cria um ndarray de 1 dimensão com 4 colunas preenchidas com 0"
   ]
  },
  {
   "cell_type": "code",
   "execution_count": null,
   "metadata": {},
   "outputs": [],
   "source": [
    "np.zeros([4, 3]) #Cria um ndarray de 2 dimensões com 4 colunas e 3 linhas preenchidas com 0"
   ]
  },
  {
   "cell_type": "code",
   "execution_count": null,
   "metadata": {},
   "outputs": [],
   "source": [
    "np.zeros((2, 3, 4)) #Cria um ndarray de 3 dimensões"
   ]
  },
  {
   "source": [
    "---"
   ],
   "cell_type": "markdown",
   "metadata": {}
  },
  {
   "source": [
    "### np.ones\n",
    "Igual o **np.zero**, mas preenche o ndarray com valor 1"
   ],
   "cell_type": "markdown",
   "metadata": {}
  },
  {
   "cell_type": "code",
   "execution_count": null,
   "metadata": {},
   "outputs": [],
   "source": [
    "np.ones((2, 4, 3))"
   ]
  },
  {
   "source": [
    "---"
   ],
   "cell_type": "markdown",
   "metadata": {}
  },
  {
   "source": [
    "### np.arange\n",
    "cria um ndarray com range definido, possibilitando definir o intervalo entre cada numero\n"
   ],
   "cell_type": "markdown",
   "metadata": {}
  },
  {
   "cell_type": "code",
   "execution_count": null,
   "metadata": {
    "tags": []
   },
   "outputs": [],
   "source": [
    "np.arange(10) # Cria um array iniciado em 0 e menor que 10 com intervalor de 1"
   ]
  },
  {
   "source": [
    "np.arange(2, 8) # Cria um array iniciado 2 e menor que 8 com intervalor de 1"
   ],
   "cell_type": "code",
   "metadata": {},
   "execution_count": null,
   "outputs": []
  },
  {
   "cell_type": "code",
   "execution_count": null,
   "metadata": {},
   "outputs": [],
   "source": [
    "np.arange(2, 8, 3) # Cria um array iniciado em 2 e menor que 8 com intervalor de 3"
   ]
  },
  {
   "source": [
    "----"
   ],
   "cell_type": "markdown",
   "metadata": {}
  },
  {
   "source": [
    "### np.linspace\n",
    "Cria um ndarray de 1 dimensão com 50 colunas por padrão com os valores entre os parametros informados"
   ],
   "cell_type": "markdown",
   "metadata": {}
  },
  {
   "cell_type": "code",
   "execution_count": null,
   "metadata": {},
   "outputs": [],
   "source": [
    "np.linspace(3, 10) #Cria um ndarray com 50 colunas com valores entre 3 e 10\n"
   ]
  },
  {
   "cell_type": "code",
   "execution_count": null,
   "metadata": {},
   "outputs": [],
   "source": [
    "np.linspace(2, 30, 10) #Cria um ndarray com 10 colunas com valores entre 2 e 30"
   ]
  },
  {
   "source": [
    "---"
   ],
   "cell_type": "markdown",
   "metadata": {}
  }
 ]
}