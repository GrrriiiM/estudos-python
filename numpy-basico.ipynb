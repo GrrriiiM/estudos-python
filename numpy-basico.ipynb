{
 "metadata": {
  "language_info": {
   "codemirror_mode": {
    "name": "ipython",
    "version": 3
   },
   "file_extension": ".py",
   "mimetype": "text/x-python",
   "name": "python",
   "nbconvert_exporter": "python",
   "pygments_lexer": "ipython3",
   "version": "3.9.0-final"
  },
  "orig_nbformat": 2,
  "kernelspec": {
   "name": "python3",
   "display_name": "Python 3.9.0 64-bit",
   "metadata": {
    "interpreter": {
     "hash": "57c4dbb94661a976730113afd48c530688c112c069e725add353a90d52985f78"
    }
   }
  }
 },
 "nbformat": 4,
 "nbformat_minor": 2,
 "cells": [
  {
   "source": [
    "# Numpy Basico\n",
    "Estudos básicos utilizando o modulo **[Numpy](https://numpy.org/)**\n",
    "\n",
    "* [np.array](#np.array)\n",
    "* [np.arange](#np.arange)"
   ],
   "cell_type": "markdown",
   "metadata": {}
  },
  {
   "source": [
    "Por convenção da comunidade, utilizasse **np** como alias para o modulo."
   ],
   "cell_type": "markdown",
   "metadata": {}
  },
  {
   "source": [
    "## Criação de ndarray"
   ],
   "cell_type": "markdown",
   "metadata": {}
  },
  {
   "cell_type": "code",
   "execution_count": 1,
   "metadata": {},
   "outputs": [],
   "source": [
    "import numpy as np"
   ]
  },
  {
   "source": [
    "### np.array\n",
    "Cria um **ndarray** baseado em um *array/tupla* passado como parametro. Os itens do array podem ser outro array para caracterizar um array de N dimensões. Os subníveis precisam ter tamanhos identicos entre si, para que sera criado um array de N dimensões. \n",
    "Exemplo: Se for criado um array com 2 dimensões (**linha** X *coluna*), todas as **linhas** precisam ter o mesmo número de *colunas*. Se for criado um array com 3 dimensões (***página*** X **linha** X *coluna*), todas as ***páginas*** precisam ter o mesmo número de **linhas**, e todas as linhas o mesmo número de *colunas*."
   ],
   "cell_type": "markdown",
   "metadata": {}
  },
  {
   "cell_type": "code",
   "execution_count": 5,
   "metadata": {},
   "outputs": [
    {
     "output_type": "execute_result",
     "data": {
      "text/plain": [
       "array([2, 7, 1, 8])"
      ]
     },
     "metadata": {},
     "execution_count": 5
    }
   ],
   "source": [
    "np.array([2, 7, 1, 8]) #Cria array de 1 dimensão (Colunas)"
   ]
  },
  {
   "cell_type": "code",
   "execution_count": 7,
   "metadata": {},
   "outputs": [
    {
     "output_type": "execute_result",
     "data": {
      "text/plain": [
       "array([[1, 3, 4],\n",
       "       [5, 3, 0]])"
      ]
     },
     "metadata": {},
     "execution_count": 7
    }
   ],
   "source": [
    "np.array([[1, 3, 4], [5, 3, 0]]) #Cria array de 2 dimensões (Linhas X Colunas)"
   ]
  },
  {
   "cell_type": "code",
   "execution_count": 11,
   "metadata": {},
   "outputs": [
    {
     "output_type": "execute_result",
     "data": {
      "text/plain": [
       "array([[[2, 0],\n",
       "        [4, 5],\n",
       "        [6, 3]],\n",
       "\n",
       "       [[4, 3],\n",
       "        [3, 1],\n",
       "        [2, 9]]])"
      ]
     },
     "metadata": {},
     "execution_count": 11
    }
   ],
   "source": [
    "np.array(([(2, 0), (4, 5), (6, 3)], [(4, 3), (3, 1), (2, 9)])) #Cria ndarray de 3 dimensões (Paginas X Linhas X Colunas)"
   ]
  },
  {
   "cell_type": "code",
   "execution_count": 13,
   "metadata": {},
   "outputs": [
    {
     "output_type": "execute_result",
     "data": {
      "text/plain": [
       "array([[[[3, 5],\n",
       "         [0, 7]],\n",
       "\n",
       "        [[4, 8],\n",
       "         [5, 6]],\n",
       "\n",
       "        [[0, 3],\n",
       "         [3, 8]]],\n",
       "\n",
       "\n",
       "       [[[4, 5],\n",
       "         [3, 1]],\n",
       "\n",
       "        [[3, 7],\n",
       "         [1, 5]],\n",
       "\n",
       "        [[2, 8],\n",
       "         [9, 9]]]])"
      ]
     },
     "metadata": {},
     "execution_count": 13
    }
   ],
   "source": [
    "np.array(([([3, 5], [0, 7]), ([4, 8], [5, 6]), ([0, 3], [3, 8])], [([4, 5], [3, 1]), ([3, 7], [1, 5]), ([2, 8], [9, 9])])) #Cria ndarray de 4 dimensões (Cubos X Paginas X Linhas X Colunas)"
   ]
  },
  {
   "source": [
    "---"
   ],
   "cell_type": "markdown",
   "metadata": {}
  },
  {
   "source": [
    "### np.arange\n",
    "cria um ndarray com range definido, possibilitando definir o intervalo entre cada numero\n"
   ],
   "cell_type": "markdown",
   "metadata": {}
  },
  {
   "cell_type": "code",
   "execution_count": 2,
   "metadata": {
    "tags": []
   },
   "outputs": [
    {
     "output_type": "execute_result",
     "data": {
      "text/plain": [
       "array([0, 1, 2, 3, 4, 5, 6, 7, 8, 9])"
      ]
     },
     "metadata": {},
     "execution_count": 2
    }
   ],
   "source": [
    "np.arange(10) # Cria um array iniciado em 0 e menor que 10 com intervalor de 1"
   ]
  },
  {
   "source": [
    "np.arange(2, 8) # Cria um array iniciado 2 e menor que 8 com intervalor de 1"
   ],
   "cell_type": "code",
   "metadata": {},
   "execution_count": 3,
   "outputs": [
    {
     "output_type": "execute_result",
     "data": {
      "text/plain": [
       "array([2, 3, 4, 5, 6, 7])"
      ]
     },
     "metadata": {},
     "execution_count": 3
    }
   ]
  },
  {
   "cell_type": "code",
   "execution_count": 4,
   "metadata": {},
   "outputs": [
    {
     "output_type": "execute_result",
     "data": {
      "text/plain": [
       "array([2, 5])"
      ]
     },
     "metadata": {},
     "execution_count": 4
    }
   ],
   "source": [
    "np.arange(2, 8, 3) # Cria um array iniciado em 2 e menor que 8 com intervalor de 3"
   ]
  },
  {
   "source": [
    "----"
   ],
   "cell_type": "markdown",
   "metadata": {}
  }
 ]
}