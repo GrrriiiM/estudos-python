{
 "metadata": {
  "language_info": {
   "codemirror_mode": {
    "name": "ipython",
    "version": 3
   },
   "file_extension": ".py",
   "mimetype": "text/x-python",
   "name": "python",
   "nbconvert_exporter": "python",
   "pygments_lexer": "ipython3",
   "version": "3.9.0-final"
  },
  "orig_nbformat": 2,
  "kernelspec": {
   "name": "python3",
   "display_name": "Python 3.9.0 64-bit",
   "metadata": {
    "interpreter": {
     "hash": "57c4dbb94661a976730113afd48c530688c112c069e725add353a90d52985f78"
    }
   }
  }
 },
 "nbformat": 4,
 "nbformat_minor": 2,
 "cells": [
  {
   "source": [
    "# Numpy Basico\n",
    "Estudos básicos utilizando o modulo **[Numpy](https://numpy.org/)**\n",
    "\n",
    "* [np.array](#np.array)\n",
    "* [np.arange](#np.arange)"
   ],
   "cell_type": "markdown",
   "metadata": {}
  },
  {
   "source": [
    "Por convenção da comunidade, utilizasse **np** como alias para o modulo."
   ],
   "cell_type": "markdown",
   "metadata": {}
  },
  {
   "cell_type": "code",
   "execution_count": 1,
   "metadata": {},
   "outputs": [],
   "source": [
    "import numpy as np"
   ]
  },
  {
   "source": [
    "## np.array\n",
    "cria um ndarray baseado no array passado como parametro"
   ],
   "cell_type": "markdown",
   "metadata": {}
  },
  {
   "source": [
    "## np.arange\n",
    "cria um ndarray com range definido, possibilitando definir o intervalo entre cada numero\n"
   ],
   "cell_type": "markdown",
   "metadata": {}
  },
  {
   "cell_type": "code",
   "execution_count": 2,
   "metadata": {
    "tags": []
   },
   "outputs": [
    {
     "output_type": "execute_result",
     "data": {
      "text/plain": [
       "array([0, 1, 2, 3, 4, 5, 6, 7, 8, 9])"
      ]
     },
     "metadata": {},
     "execution_count": 2
    }
   ],
   "source": [
    "np.arange(10) # Cria um array iniciado em 0 e menor que 10 com intervalor de 1"
   ]
  },
  {
   "source": [
    "np.arange(2, 8) # Cria um array iniciado 2 e menor que 8 com intervalor de 1"
   ],
   "cell_type": "code",
   "metadata": {},
   "execution_count": 3,
   "outputs": [
    {
     "output_type": "execute_result",
     "data": {
      "text/plain": [
       "array([2, 3, 4, 5, 6, 7])"
      ]
     },
     "metadata": {},
     "execution_count": 3
    }
   ]
  },
  {
   "cell_type": "code",
   "execution_count": 4,
   "metadata": {},
   "outputs": [
    {
     "output_type": "execute_result",
     "data": {
      "text/plain": [
       "array([2, 5])"
      ]
     },
     "metadata": {},
     "execution_count": 4
    }
   ],
   "source": [
    "np.arange(2, 8, 3) # Cria um array iniciado em 2 e menor que 8 com intervalor de 3"
   ]
  }
 ]
}