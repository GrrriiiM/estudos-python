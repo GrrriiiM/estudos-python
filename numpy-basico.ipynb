{
 "metadata": {
  "language_info": {
   "codemirror_mode": {
    "name": "ipython",
    "version": 3
   },
   "file_extension": ".py",
   "mimetype": "text/x-python",
   "name": "python",
   "nbconvert_exporter": "python",
   "pygments_lexer": "ipython3",
   "version": "3.9.0-final"
  },
  "orig_nbformat": 2,
  "kernelspec": {
   "name": "python3",
   "display_name": "Python 3.9.0 64-bit",
   "metadata": {
    "interpreter": {
     "hash": "57c4dbb94661a976730113afd48c530688c112c069e725add353a90d52985f78"
    }
   }
  }
 },
 "nbformat": 4,
 "nbformat_minor": 2,
 "cells": [
  {
   "source": [
    "# Numpy Basico\n",
    "Estudos básicos utilizando o modulo **[Numpy](https://numpy.org/)**\n",
    "\n",
    "* [np.array](#np.array)\n",
    "* [np.arange](#np.arange)"
   ],
   "cell_type": "markdown",
   "metadata": {}
  },
  {
   "source": [
    "Por convenção da comunidade, utilizasse **np** como alias para o modulo."
   ],
   "cell_type": "markdown",
   "metadata": {}
  },
  {
   "source": [
    "## Criação de ndarray"
   ],
   "cell_type": "markdown",
   "metadata": {}
  },
  {
   "cell_type": "code",
   "execution_count": 74,
   "metadata": {},
   "outputs": [],
   "source": [
    "import numpy as np"
   ]
  },
  {
   "source": [
    "### np.array\n",
    "Cria um **ndarray** baseado em um *array/tupla* passado como parametro. Os itens do array podem ser outro array para caracterizar um array de N dimensões. Os subníveis precisam ter tamanhos identicos entre si, para que sera criado um array de N dimensões. \n",
    "Exemplo: Se for criado um array com 2 dimensões (**linha** X *coluna*), todas as **linhas** precisam ter o mesmo número de *colunas*. Se for criado um array com 3 dimensões (***página*** X **linha** X *coluna*), todas as ***páginas*** precisam ter o mesmo número de **linhas**, e todas as linhas o mesmo número de *colunas*."
   ],
   "cell_type": "markdown",
   "metadata": {}
  },
  {
   "cell_type": "code",
   "execution_count": 75,
   "metadata": {},
   "outputs": [
    {
     "output_type": "execute_result",
     "data": {
      "text/plain": [
       "array([2, 7, 1, 8])"
      ]
     },
     "metadata": {},
     "execution_count": 75
    }
   ],
   "source": [
    "np.array([2, 7, 1, 8]) #Cria array de 1 dimensão (Colunas)"
   ]
  },
  {
   "cell_type": "code",
   "execution_count": 76,
   "metadata": {},
   "outputs": [
    {
     "output_type": "execute_result",
     "data": {
      "text/plain": [
       "array([[1, 3, 4],\n",
       "       [5, 3, 0]])"
      ]
     },
     "metadata": {},
     "execution_count": 76
    }
   ],
   "source": [
    "np.array([[1, 3, 4], [5, 3, 0]]) #Cria array de 2 dimensões (Linhas X Colunas)"
   ]
  },
  {
   "cell_type": "code",
   "execution_count": 77,
   "metadata": {},
   "outputs": [
    {
     "output_type": "execute_result",
     "data": {
      "text/plain": [
       "array([[[2, 0],\n",
       "        [4, 5],\n",
       "        [6, 3]],\n",
       "\n",
       "       [[4, 3],\n",
       "        [3, 1],\n",
       "        [2, 9]]])"
      ]
     },
     "metadata": {},
     "execution_count": 77
    }
   ],
   "source": [
    "np.array(([(2, 0), (4, 5), (6, 3)], [(4, 3), (3, 1), (2, 9)])) #Cria ndarray de 3 dimensões (Paginas X Linhas X Colunas)"
   ]
  },
  {
   "cell_type": "code",
   "execution_count": 78,
   "metadata": {},
   "outputs": [
    {
     "output_type": "execute_result",
     "data": {
      "text/plain": [
       "array([[[[3, 5],\n",
       "         [0, 7]],\n",
       "\n",
       "        [[4, 8],\n",
       "         [5, 6]],\n",
       "\n",
       "        [[0, 3],\n",
       "         [3, 8]]],\n",
       "\n",
       "\n",
       "       [[[4, 5],\n",
       "         [3, 1]],\n",
       "\n",
       "        [[3, 7],\n",
       "         [1, 5]],\n",
       "\n",
       "        [[2, 8],\n",
       "         [9, 9]]]])"
      ]
     },
     "metadata": {},
     "execution_count": 78
    }
   ],
   "source": [
    "np.array(([([3, 5], [0, 7]), ([4, 8], [5, 6]), ([0, 3], [3, 8])], [([4, 5], [3, 1]), ([3, 7], [1, 5]), ([2, 8], [9, 9])])) #Cria ndarray de 4 dimensões (Cubos X Paginas X Linhas X Colunas)"
   ]
  },
  {
   "source": [
    "---"
   ],
   "cell_type": "markdown",
   "metadata": {}
  },
  {
   "source": [
    "### np.zeros\n",
    "Cria um ndarray com todos valores 0 no formato passado como parametro. Como padrão os valores são decimais."
   ],
   "cell_type": "markdown",
   "metadata": {}
  },
  {
   "cell_type": "code",
   "execution_count": 79,
   "metadata": {},
   "outputs": [
    {
     "output_type": "execute_result",
     "data": {
      "text/plain": [
       "array([0., 0., 0., 0.])"
      ]
     },
     "metadata": {},
     "execution_count": 79
    }
   ],
   "source": [
    "np.zeros(4) #Cria um ndarray de 1 dimensão com 4 colunas preenchidas com 0"
   ]
  },
  {
   "cell_type": "code",
   "execution_count": 80,
   "metadata": {},
   "outputs": [
    {
     "output_type": "execute_result",
     "data": {
      "text/plain": [
       "array([[0., 0., 0.],\n",
       "       [0., 0., 0.],\n",
       "       [0., 0., 0.],\n",
       "       [0., 0., 0.]])"
      ]
     },
     "metadata": {},
     "execution_count": 80
    }
   ],
   "source": [
    "np.zeros([4, 3]) #Cria um ndarray de 2 dimensões com 4 colunas e 3 linhas preenchidas com 0"
   ]
  },
  {
   "cell_type": "code",
   "execution_count": 81,
   "metadata": {},
   "outputs": [
    {
     "output_type": "execute_result",
     "data": {
      "text/plain": [
       "array([[[0., 0., 0., 0.],\n",
       "        [0., 0., 0., 0.],\n",
       "        [0., 0., 0., 0.]],\n",
       "\n",
       "       [[0., 0., 0., 0.],\n",
       "        [0., 0., 0., 0.],\n",
       "        [0., 0., 0., 0.]]])"
      ]
     },
     "metadata": {},
     "execution_count": 81
    }
   ],
   "source": [
    "np.zeros((2, 3, 4)) #Cria um ndarray de 3 dimensões"
   ]
  },
  {
   "source": [
    "---"
   ],
   "cell_type": "markdown",
   "metadata": {}
  },
  {
   "source": [
    "### np.ones\n",
    "Igual o **np.zero**, mas preenche o ndarray com valor 1"
   ],
   "cell_type": "markdown",
   "metadata": {}
  },
  {
   "cell_type": "code",
   "execution_count": 82,
   "metadata": {},
   "outputs": [
    {
     "output_type": "execute_result",
     "data": {
      "text/plain": [
       "array([[[1., 1., 1.],\n",
       "        [1., 1., 1.],\n",
       "        [1., 1., 1.],\n",
       "        [1., 1., 1.]],\n",
       "\n",
       "       [[1., 1., 1.],\n",
       "        [1., 1., 1.],\n",
       "        [1., 1., 1.],\n",
       "        [1., 1., 1.]]])"
      ]
     },
     "metadata": {},
     "execution_count": 82
    }
   ],
   "source": [
    "np.ones((2, 4, 3))"
   ]
  },
  {
   "source": [
    "---"
   ],
   "cell_type": "markdown",
   "metadata": {}
  },
  {
   "source": [
    "### np.arange\n",
    "cria um ndarray com range definido, possibilitando definir o intervalo entre cada numero\n"
   ],
   "cell_type": "markdown",
   "metadata": {}
  },
  {
   "cell_type": "code",
   "execution_count": 83,
   "metadata": {
    "tags": []
   },
   "outputs": [
    {
     "output_type": "execute_result",
     "data": {
      "text/plain": [
       "array([0, 1, 2, 3, 4, 5, 6, 7, 8, 9])"
      ]
     },
     "metadata": {},
     "execution_count": 83
    }
   ],
   "source": [
    "np.arange(10) # Cria um array iniciado em 0 e menor que 10 com intervalor de 1"
   ]
  },
  {
   "source": [
    "np.arange(2, 8) # Cria um array iniciado 2 e menor que 8 com intervalor de 1"
   ],
   "cell_type": "code",
   "metadata": {},
   "execution_count": 84,
   "outputs": [
    {
     "output_type": "execute_result",
     "data": {
      "text/plain": [
       "array([2, 3, 4, 5, 6, 7])"
      ]
     },
     "metadata": {},
     "execution_count": 84
    }
   ]
  },
  {
   "cell_type": "code",
   "execution_count": 85,
   "metadata": {},
   "outputs": [
    {
     "output_type": "execute_result",
     "data": {
      "text/plain": [
       "array([2, 5])"
      ]
     },
     "metadata": {},
     "execution_count": 85
    }
   ],
   "source": [
    "np.arange(2, 8, 3) # Cria um array iniciado em 2 e menor que 8 com intervalor de 3"
   ]
  },
  {
   "source": [
    "----"
   ],
   "cell_type": "markdown",
   "metadata": {}
  },
  {
   "source": [
    "### np.linspace\n",
    "Cria um ndarray de 1 dimensão com 50 colunas por padrão com os valores entre os parametros informados"
   ],
   "cell_type": "markdown",
   "metadata": {}
  },
  {
   "cell_type": "code",
   "execution_count": 86,
   "metadata": {},
   "outputs": [
    {
     "output_type": "execute_result",
     "data": {
      "text/plain": [
       "array([ 3.        ,  3.14285714,  3.28571429,  3.42857143,  3.57142857,\n",
       "        3.71428571,  3.85714286,  4.        ,  4.14285714,  4.28571429,\n",
       "        4.42857143,  4.57142857,  4.71428571,  4.85714286,  5.        ,\n",
       "        5.14285714,  5.28571429,  5.42857143,  5.57142857,  5.71428571,\n",
       "        5.85714286,  6.        ,  6.14285714,  6.28571429,  6.42857143,\n",
       "        6.57142857,  6.71428571,  6.85714286,  7.        ,  7.14285714,\n",
       "        7.28571429,  7.42857143,  7.57142857,  7.71428571,  7.85714286,\n",
       "        8.        ,  8.14285714,  8.28571429,  8.42857143,  8.57142857,\n",
       "        8.71428571,  8.85714286,  9.        ,  9.14285714,  9.28571429,\n",
       "        9.42857143,  9.57142857,  9.71428571,  9.85714286, 10.        ])"
      ]
     },
     "metadata": {},
     "execution_count": 86
    }
   ],
   "source": [
    "np.linspace(3, 10) #Cria um ndarray com 50 colunas com valores entre 3 e 10\n"
   ]
  },
  {
   "cell_type": "code",
   "execution_count": 87,
   "metadata": {},
   "outputs": [
    {
     "output_type": "execute_result",
     "data": {
      "text/plain": [
       "array([ 2.        ,  5.11111111,  8.22222222, 11.33333333, 14.44444444,\n",
       "       17.55555556, 20.66666667, 23.77777778, 26.88888889, 30.        ])"
      ]
     },
     "metadata": {},
     "execution_count": 87
    }
   ],
   "source": [
    "np.linspace(2, 30, 10) #Cria um ndarray com 10 colunas com valores entre 2 e 30"
   ]
  },
  {
   "source": [
    "---"
   ],
   "cell_type": "markdown",
   "metadata": {}
  },
  {
   "source": [
    "### np.random\n",
    "Varias funções para criar um ndarray com números aleatórios"
   ],
   "cell_type": "markdown",
   "metadata": {}
  },
  {
   "cell_type": "code",
   "execution_count": 88,
   "metadata": {},
   "outputs": [
    {
     "output_type": "execute_result",
     "data": {
      "text/plain": [
       "array([[0.1550837 , 0.34513493, 0.43309951],\n",
       "       [0.47951243, 0.03815882, 0.94389613]])"
      ]
     },
     "metadata": {},
     "execution_count": 88
    }
   ],
   "source": [
    "np.random.random((2, 3)) #Cria um array de 2 linhas e 3 colunas com numeros aletórios entre 0 e 1"
   ]
  },
  {
   "cell_type": "code",
   "execution_count": 89,
   "metadata": {},
   "outputs": [
    {
     "output_type": "execute_result",
     "data": {
      "text/plain": [
       "array([[ 0, 16,  3],\n",
       "       [ 2,  7, 10]])"
      ]
     },
     "metadata": {},
     "execution_count": 89
    }
   ],
   "source": [
    "np.random.randint(0, 20, (2, 3)) #Cria um ndarray com valores aleatórios entre 0, 20 com 2 linhas e 3 colunas"
   ]
  },
  {
   "source": [
    "---"
   ],
   "cell_type": "markdown",
   "metadata": {}
  },
  {
   "source": [
    "## Operações Matemáticas\n",
    "É possivel realizar operações utilizandos os sinais matematicos (+, -, *, /) entre ndarrays"
   ],
   "cell_type": "markdown",
   "metadata": {}
  },
  {
   "cell_type": "code",
   "execution_count": 90,
   "metadata": {},
   "outputs": [
    {
     "output_type": "execute_result",
     "data": {
      "text/plain": [
       "array([[7, 9, 7],\n",
       "       [8, 1, 0]])"
      ]
     },
     "metadata": {},
     "execution_count": 90
    }
   ],
   "source": [
    "a1 = np.random.randint(0, 10, (2, 3))\n",
    "a1"
   ]
  },
  {
   "cell_type": "code",
   "execution_count": 91,
   "metadata": {},
   "outputs": [
    {
     "output_type": "execute_result",
     "data": {
      "text/plain": [
       "array([[3, 1, 6],\n",
       "       [2, 5, 9]])"
      ]
     },
     "metadata": {},
     "execution_count": 91
    }
   ],
   "source": [
    "a2 = np.random.randint(1, 10, (2, 3))\n",
    "a2"
   ]
  },
  {
   "source": [
    "### Adição"
   ],
   "cell_type": "markdown",
   "metadata": {}
  },
  {
   "cell_type": "code",
   "execution_count": 92,
   "metadata": {},
   "outputs": [
    {
     "output_type": "execute_result",
     "data": {
      "text/plain": [
       "array([[17, 19, 17],\n",
       "       [18, 11, 10]])"
      ]
     },
     "metadata": {},
     "execution_count": 92
    }
   ],
   "source": [
    "a1 + 10 #Adicionado 10 a todos os valores do ndarray"
   ]
  },
  {
   "cell_type": "code",
   "execution_count": 93,
   "metadata": {},
   "outputs": [
    {
     "output_type": "execute_result",
     "data": {
      "text/plain": [
       "array([[10, 10, 13],\n",
       "       [10,  6,  9]])"
      ]
     },
     "metadata": {},
     "execution_count": 93
    }
   ],
   "source": [
    "a1 + a2 #Adicionado os valores do ndarray a2 ao ndarray a1 em suas respectivas posiçoes"
   ]
  },
  {
   "source": [
    "### subtração"
   ],
   "cell_type": "markdown",
   "metadata": {}
  },
  {
   "cell_type": "code",
   "execution_count": 94,
   "metadata": {},
   "outputs": [
    {
     "output_type": "execute_result",
     "data": {
      "text/plain": [
       "array([[ 5,  7,  5],\n",
       "       [ 6, -1, -2]])"
      ]
     },
     "metadata": {},
     "execution_count": 94
    }
   ],
   "source": [
    "a1 - 2"
   ]
  },
  {
   "cell_type": "code",
   "execution_count": 95,
   "metadata": {},
   "outputs": [
    {
     "output_type": "execute_result",
     "data": {
      "text/plain": [
       "array([[ 4,  8,  1],\n",
       "       [ 6, -4, -9]])"
      ]
     },
     "metadata": {},
     "execution_count": 95
    }
   ],
   "source": [
    "a1 - a2"
   ]
  },
  {
   "cell_type": "code",
   "execution_count": 96,
   "metadata": {},
   "outputs": [
    {
     "output_type": "execute_result",
     "data": {
      "text/plain": [
       "array([[14, 18, 14],\n",
       "       [16,  2,  0]])"
      ]
     },
     "metadata": {},
     "execution_count": 96
    }
   ],
   "source": [
    "a1 * 2"
   ]
  },
  {
   "cell_type": "code",
   "execution_count": 97,
   "metadata": {},
   "outputs": [
    {
     "output_type": "execute_result",
     "data": {
      "text/plain": [
       "array([[21,  9, 42],\n",
       "       [16,  5,  0]])"
      ]
     },
     "metadata": {},
     "execution_count": 97
    }
   ],
   "source": [
    "a1 * a2"
   ]
  },
  {
   "cell_type": "code",
   "execution_count": 98,
   "metadata": {},
   "outputs": [
    {
     "output_type": "execute_result",
     "data": {
      "text/plain": [
       "array([[3.5, 4.5, 3.5],\n",
       "       [4. , 0.5, 0. ]])"
      ]
     },
     "metadata": {},
     "execution_count": 98
    }
   ],
   "source": [
    "a1 / 2"
   ]
  },
  {
   "cell_type": "code",
   "execution_count": 99,
   "metadata": {},
   "outputs": [
    {
     "output_type": "execute_result",
     "data": {
      "text/plain": [
       "array([[2.33333333, 9.        , 1.16666667],\n",
       "       [4.        , 0.2       , 0.        ]])"
      ]
     },
     "metadata": {},
     "execution_count": 99
    }
   ],
   "source": [
    "a1 / a2"
   ]
  },
  {
   "cell_type": "code",
   "execution_count": 100,
   "metadata": {},
   "outputs": [
    {
     "output_type": "execute_result",
     "data": {
      "text/plain": [
       "array([[ 20. ,  40. ,   6.5],\n",
       "       [ 30. , -12. , -40.5]])"
      ]
     },
     "metadata": {},
     "execution_count": 100
    }
   ],
   "source": [
    "((a1 + a2) / 2) * (a1 - a2)"
   ]
  },
  {
   "cell_type": "code",
   "execution_count": 101,
   "metadata": {},
   "outputs": [
    {
     "output_type": "execute_result",
     "data": {
      "text/plain": [
       "array([[24, 12, 45],\n",
       "       [19,  8,  3]])"
      ]
     },
     "metadata": {},
     "execution_count": 101
    }
   ],
   "source": [
    "a3 = a1 * a2\n",
    "a3 += 3\n",
    "a3"
   ]
  },
  {
   "source": [
    "---"
   ],
   "cell_type": "markdown",
   "metadata": {}
  },
  {
   "source": [
    "## Propriedades\n",
    "Algumas propriedades do ndarray"
   ],
   "cell_type": "markdown",
   "metadata": {}
  },
  {
   "cell_type": "code",
   "execution_count": 102,
   "metadata": {},
   "outputs": [
    {
     "output_type": "execute_result",
     "data": {
      "text/plain": [
       "array([[ 0,  1,  2,  3,  4],\n",
       "       [ 5,  6,  7,  8,  9],\n",
       "       [10, 11, 12, 13, 14],\n",
       "       [15, 16, 17, 18, 19]])"
      ]
     },
     "metadata": {},
     "execution_count": 102
    }
   ],
   "source": [
    "nd_prop1 = np.arange(20).reshape((4, 5))\n",
    "nd_prop1"
   ]
  },
  {
   "cell_type": "code",
   "execution_count": 103,
   "metadata": {},
   "outputs": [
    {
     "output_type": "execute_result",
     "data": {
      "text/plain": [
       "(4, 5)"
      ]
     },
     "metadata": {},
     "execution_count": 103
    }
   ],
   "source": [
    "nd_prop1.shape"
   ]
  },
  {
   "cell_type": "code",
   "execution_count": 104,
   "metadata": {},
   "outputs": [
    {
     "output_type": "execute_result",
     "data": {
      "text/plain": [
       "dtype('int32')"
      ]
     },
     "metadata": {},
     "execution_count": 104
    }
   ],
   "source": [
    "nd_prop1.dtype"
   ]
  },
  {
   "cell_type": "code",
   "execution_count": 105,
   "metadata": {},
   "outputs": [
    {
     "output_type": "execute_result",
     "data": {
      "text/plain": [
       "2"
      ]
     },
     "metadata": {},
     "execution_count": 105
    }
   ],
   "source": [
    "nd_prop1.ndim"
   ]
  },
  {
   "cell_type": "code",
   "execution_count": 106,
   "metadata": {
    "tags": []
   },
   "outputs": [
    {
     "output_type": "execute_result",
     "data": {
      "text/plain": [
       "20"
      ]
     },
     "metadata": {},
     "execution_count": 106
    }
   ],
   "source": [
    "nd_prop1.size"
   ]
  },
  {
   "cell_type": "code",
   "execution_count": 107,
   "metadata": {},
   "outputs": [
    {
     "output_type": "execute_result",
     "data": {
      "text/plain": [
       "array([[ 0,  5, 10, 15],\n",
       "       [ 1,  6, 11, 16],\n",
       "       [ 2,  7, 12, 17],\n",
       "       [ 3,  8, 13, 18],\n",
       "       [ 4,  9, 14, 19]])"
      ]
     },
     "metadata": {},
     "execution_count": 107
    }
   ],
   "source": [
    "nd_prop1.T"
   ]
  },
  {
   "source": [
    "## Funções\n",
    "Algumas funções basicas do ndarray"
   ],
   "cell_type": "markdown",
   "metadata": {}
  },
  {
   "source": [
    "### ndarray.reshape\n",
    "Muda as dimensões do ndarray de acordo com parametro"
   ],
   "cell_type": "markdown",
   "metadata": {}
  },
  {
   "cell_type": "code",
   "execution_count": 108,
   "metadata": {},
   "outputs": [
    {
     "output_type": "execute_result",
     "data": {
      "text/plain": [
       "array([[ 0,  1,  2,  3,  4],\n",
       "       [ 5,  6,  7,  8,  9],\n",
       "       [10, 11, 12, 13, 14],\n",
       "       [15, 16, 17, 18, 19]])"
      ]
     },
     "metadata": {},
     "execution_count": 108
    }
   ],
   "source": [
    "a3 = np.arange(20)\n",
    "a3 = a3.reshape((4, 5))\n",
    "a3"
   ]
  },
  {
   "cell_type": "code",
   "execution_count": 109,
   "metadata": {},
   "outputs": [
    {
     "output_type": "execute_result",
     "data": {
      "text/plain": [
       "array([[[ 0,  1,  2,  3,  4],\n",
       "        [ 5,  6,  7,  8,  9]],\n",
       "\n",
       "       [[10, 11, 12, 13, 14],\n",
       "        [15, 16, 17, 18, 19]]])"
      ]
     },
     "metadata": {},
     "execution_count": 109
    }
   ],
   "source": [
    "a3 = a3.reshape((2, 2, 5))\n",
    "a3"
   ]
  },
  {
   "source": [
    "### Sum\n",
    "Retorna a soma de todos os valores do ndarray"
   ],
   "cell_type": "markdown",
   "metadata": {}
  },
  {
   "cell_type": "code",
   "execution_count": 110,
   "metadata": {},
   "outputs": [
    {
     "output_type": "execute_result",
     "data": {
      "text/plain": [
       "190"
      ]
     },
     "metadata": {},
     "execution_count": 110
    }
   ],
   "source": [
    "a3.sum()"
   ]
  }
 ]
}