{
 "metadata": {
  "language_info": {
   "codemirror_mode": {
    "name": "ipython",
    "version": 3
   },
   "file_extension": ".py",
   "mimetype": "text/x-python",
   "name": "python",
   "nbconvert_exporter": "python",
   "pygments_lexer": "ipython3",
   "version": "3.9.0"
  },
  "orig_nbformat": 2,
  "kernelspec": {
   "name": "python3",
   "display_name": "Python 3.9.0 64-bit",
   "metadata": {
    "interpreter": {
     "hash": "4c3c803356ac84a245da1e563cde325f27803270f971fd44c60c39c68f877160"
    }
   }
  }
 },
 "nbformat": 4,
 "nbformat_minor": 2,
 "cells": [
  {
   "cell_type": "code",
   "execution_count": 192,
   "metadata": {},
   "outputs": [],
   "source": [
    "from sympy import *\n",
    "from sympy.stats import *\n",
    "from sympy.utilities.lambdify import *\n",
    "import math"
   ]
  },
  {
   "cell_type": "code",
   "execution_count": 193,
   "metadata": {},
   "outputs": [
    {
     "output_type": "execute_result",
     "data": {
      "text/plain": [
       "-a**2/4 + 3*a/2 + b**2/4 - 3*b/2"
      ],
      "text/latex": "$\\displaystyle - \\frac{a^{2}}{4} + \\frac{3 a}{2} + \\frac{b^{2}}{4} - \\frac{3 b}{2}$"
     },
     "metadata": {},
     "execution_count": 193
    }
   ],
   "source": [
    "x, a, b = var(\"x a b\")\n",
    "f = (x-3)/2\n",
    "i = integrate(f, (x, a, b))\n",
    "i"
   ]
  },
  {
   "cell_type": "code",
   "execution_count": 194,
   "metadata": {},
   "outputs": [
    {
     "output_type": "execute_result",
     "data": {
      "text/plain": [
       "1"
      ],
      "text/latex": "$\\displaystyle 1$"
     },
     "metadata": {},
     "execution_count": 194
    }
   ],
   "source": [
    "i.subs({a: 3, b: 5}) # area da curva deve ser 1"
   ]
  },
  {
   "cell_type": "code",
   "execution_count": 195,
   "metadata": {},
   "outputs": [
    {
     "output_type": "execute_result",
     "data": {
      "text/plain": [
       "0.227500000000000"
      ],
      "text/latex": "$\\displaystyle 0.2275$"
     },
     "metadata": {},
     "execution_count": 195
    }
   ],
   "source": [
    "i.subs({a: 3.3, b: 4}) # medindo a probabilidade"
   ]
  },
  {
   "cell_type": "code",
   "execution_count": 196,
   "metadata": {},
   "outputs": [
    {
     "output_type": "execute_result",
     "data": {
      "text/plain": [
       "-a**3/6 + 3*a**2/4 + b**3/6 - 3*b**2/4"
      ],
      "text/latex": "$\\displaystyle - \\frac{a^{3}}{6} + \\frac{3 a^{2}}{4} + \\frac{b^{3}}{6} - \\frac{3 b^{2}}{4}$"
     },
     "metadata": {},
     "execution_count": 196
    }
   ],
   "source": [
    "mu = integrate(x*f, (x, a, b)) # media\n",
    "mu"
   ]
  },
  {
   "cell_type": "code",
   "execution_count": 197,
   "metadata": {},
   "outputs": [
    {
     "output_type": "execute_result",
     "data": {
      "text/plain": [
       "x**4/8 - x**3/2 - (-a**3/6 + 3*a**2/4 + b**3/6 - 3*b**2/4)**2"
      ],
      "text/latex": "$\\displaystyle \\frac{x^{4}}{8} - \\frac{x^{3}}{2} - \\left(- \\frac{a^{3}}{6} + \\frac{3 a^{2}}{4} + \\frac{b^{3}}{6} - \\frac{3 b^{2}}{4}\\right)^{2}$"
     },
     "metadata": {},
     "execution_count": 197
    }
   ],
   "source": [
    "Var = integrate((x**2)*f) - mu**2 # varianca\n",
    "Var"
   ]
  },
  {
   "cell_type": "code",
   "execution_count": 198,
   "metadata": {},
   "outputs": [
    {
     "output_type": "execute_result",
     "data": {
      "text/plain": [
       "Piecewise((0.025*x - 0.1, (x >= 8) & (x < 10)), (0.15, (x >= 10) & (x <= 15)), (0, True))"
      ],
      "text/latex": "$\\displaystyle \\begin{cases} 0.025 x - 0.1 & \\text{for}\\: x \\geq 8 \\wedge x < 10 \\\\0.15 & \\text{for}\\: x \\geq 10 \\wedge x \\leq 15 \\\\0 & \\text{otherwise} \\end{cases}$"
     },
     "metadata": {},
     "execution_count": 198
    }
   ],
   "source": [
    "x = var('x')\n",
    "f = Piecewise(((1/40)*(x-4), And(Ge(x, 8), Lt(x, 10))), (3/20, And(Ge(x, 10), Le(x, 15))), (0, True))\n",
    "f"
   ]
  },
  {
   "cell_type": "code",
   "execution_count": 202,
   "metadata": {},
   "outputs": [
    {
     "output_type": "execute_result",
     "data": {
      "text/plain": [
       "11.6416666666667"
      ],
      "text/latex": "$\\displaystyle 11.6416666666667$"
     },
     "metadata": {},
     "execution_count": 202
    }
   ],
   "source": [
    "mu = integrate(x*f, (x, a, b))\n",
    "mu.subs({ a: 8, b: 15})"
   ]
  },
  {
   "cell_type": "code",
   "execution_count": 208,
   "metadata": {},
   "outputs": [
    {
     "output_type": "execute_result",
     "data": {
      "text/plain": [
       "3.85493055555557"
      ],
      "text/latex": "$\\displaystyle 3.85493055555557$"
     },
     "metadata": {},
     "execution_count": 208
    }
   ],
   "source": [
    "E2 = integrate((x**2)*f, (x, a, b))\n",
    "Var = E2 - (mu**2)\n",
    "Var.subs({ a: 8, b: 15})"
   ]
  },
  {
   "cell_type": "code",
   "execution_count": 210,
   "metadata": {},
   "outputs": [
    {
     "output_type": "execute_result",
     "data": {
      "text/plain": [
       "0.437500000000000"
      ],
      "text/latex": "$\\displaystyle 0.4375$"
     },
     "metadata": {},
     "execution_count": 210
    }
   ],
   "source": [
    "integrate(f, (x, a, b)).subs({ a: 9, b: 12 })"
   ]
  },
  {
   "cell_type": "code",
   "execution_count": 211,
   "metadata": {},
   "outputs": [
    {
     "output_type": "execute_result",
     "data": {
      "text/plain": [
       "0.850000000000001"
      ],
      "text/latex": "$\\displaystyle 0.850000000000001$"
     },
     "metadata": {},
     "execution_count": 211
    }
   ],
   "source": [
    "integrate(f, (x, a, b)).subs({ a: 8, b: 14 }) / integrate(f, (x, a, b)).subs({ a: 8, b: oo })"
   ]
  }
 ]
}