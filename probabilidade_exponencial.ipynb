{
 "metadata": {
  "language_info": {
   "codemirror_mode": {
    "name": "ipython",
    "version": 3
   },
   "file_extension": ".py",
   "mimetype": "text/x-python",
   "name": "python",
   "nbconvert_exporter": "python",
   "pygments_lexer": "ipython3",
   "version": "3.9.0"
  },
  "orig_nbformat": 2,
  "kernelspec": {
   "name": "python3",
   "display_name": "Python 3.9.0 64-bit",
   "metadata": {
    "interpreter": {
     "hash": "4c3c803356ac84a245da1e563cde325f27803270f971fd44c60c39c68f877160"
    }
   }
  }
 },
 "nbformat": 4,
 "nbformat_minor": 2,
 "cells": [
  {
   "cell_type": "code",
   "execution_count": 1,
   "metadata": {},
   "outputs": [],
   "source": [
    "from sympy.stats import *\n",
    "from sympy import *"
   ]
  },
  {
   "cell_type": "code",
   "execution_count": 16,
   "metadata": {},
   "outputs": [
    {
     "output_type": "stream",
     "name": "stdout",
     "text": [
      "⎧   0     for z < 0\n⎪                  \n⎨   -λ⋅z           \n⎪λ⋅ℯ      otherwise\n⎩                  \n"
     ]
    },
    {
     "output_type": "execute_result",
     "data": {
      "text/plain": [
       "Integral(Piecewise((0, _z < 0), (lambda*exp(-_z*lambda), True)), (_z, 4000, oo))"
      ],
      "text/latex": "$\\displaystyle \\int\\limits_{4000}^{\\infty} \\begin{cases} 0 & \\text{for}\\: z < 0 \\\\\\lambda e^{- z \\lambda} & \\text{otherwise} \\end{cases}\\, dz$"
     },
     "metadata": {},
     "execution_count": 16
    }
   ],
   "source": [
    "l, z = var(\"lambda z\")\n",
    "pdf = Piecewise((0, Lt(z, 0)), (l*exp(-l*z), True))\n",
    "pprint(pdf)\n",
    "X = ContinuousRV(z, pdf)\n",
    "P(X >= 4000)"
   ]
  },
  {
   "cell_type": "code",
   "execution_count": 10,
   "metadata": {},
   "outputs": [
    {
     "output_type": "execute_result",
     "data": {
      "text/plain": [
       "Integral(Piecewise((0, _z < 0), (lambda*exp(-_z*lambda), True)), (_z, 4000, oo))"
      ],
      "text/latex": "$\\displaystyle \\int\\limits_{4000}^{\\infty} \\begin{cases} 0 & \\text{for}\\: z < 0 \\\\\\lambda e^{- z \\lambda} & \\text{otherwise} \\end{cases}\\, dz$"
     },
     "metadata": {},
     "execution_count": 10
    }
   ],
   "source": [
    "P(Ge(X, 4000))"
   ]
  },
  {
   "cell_type": "code",
   "execution_count": 21,
   "metadata": {},
   "outputs": [
    {
     "output_type": "execute_result",
     "data": {
      "text/plain": [
       "0.606530659712633"
      ],
      "text/latex": "$\\displaystyle 0.606530659712633$"
     },
     "metadata": {},
     "execution_count": 21
    }
   ],
   "source": [
    "P(Ge(X.subs({l: 1/8000}), 4000))"
   ]
  },
  {
   "cell_type": "code",
   "execution_count": 19,
   "metadata": {},
   "outputs": [
    {
     "output_type": "execute_result",
     "data": {
      "text/plain": [
       "Integral(Piecewise((0, _z < 0), (lambda*exp(-_z*lambda), True)), (_z, 4000, oo))"
      ],
      "text/latex": "$\\displaystyle \\int\\limits_{4000}^{\\infty} \\begin{cases} 0 & \\text{for}\\: z < 0 \\\\\\lambda e^{- z \\lambda} & \\text{otherwise} \\end{cases}\\, dz$"
     },
     "metadata": {},
     "execution_count": 19
    }
   ],
   "source": [
    "P(Ge(X, 4000))"
   ]
  },
  {
   "cell_type": "code",
   "execution_count": 17,
   "metadata": {
    "tags": []
   },
   "outputs": [
    {
     "output_type": "execute_result",
     "data": {
      "text/plain": [
       "X"
      ],
      "text/latex": "$\\displaystyle X$"
     },
     "metadata": {},
     "execution_count": 17
    }
   ],
   "source": [
    "t = X.subs({l: 1/8000})\n",
    "t"
   ]
  }
 ]
}